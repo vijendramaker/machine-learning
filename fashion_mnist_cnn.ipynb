{
  "nbformat": 4,
  "nbformat_minor": 0,
  "metadata": {
    "colab": {
      "name": "Copy of Untitled4.ipynb",
      "provenance": [],
      "authorship_tag": "ABX9TyON+mhAhNKqW8uwn7F2GQK+",
      "include_colab_link": true
    },
    "kernelspec": {
      "name": "python3",
      "display_name": "Python 3"
    },
    "language_info": {
      "name": "python"
    }
  },
  "cells": [
    {
      "cell_type": "markdown",
      "metadata": {
        "id": "view-in-github",
        "colab_type": "text"
      },
      "source": [
        "<a href=\"https://colab.research.google.com/github/vijendramaker/machine-learning/blob/master/fashion_mnist_cnn.ipynb\" target=\"_parent\"><img src=\"https://colab.research.google.com/assets/colab-badge.svg\" alt=\"Open In Colab\"/></a>"
      ]
    },
    {
      "cell_type": "code",
      "metadata": {
        "colab": {
          "base_uri": "https://localhost:8080/"
        },
        "id": "bqwJ-Hitiod1",
        "outputId": "f9f395fb-4ea1-408d-9911-13b386c358e1"
      },
      "source": [
        "!pip install -q tensorflow-gpu\n",
        "\n",
        "import tensorflow as tf\n",
        "\n",
        "print(tf.version)\n"
      ],
      "execution_count": null,
      "outputs": [
        {
          "output_type": "stream",
          "text": [
            "<module 'tensorflow._api.v2.version' from '/usr/local/lib/python3.7/dist-packages/tensorflow/_api/v2/version/__init__.py'>\n"
          ],
          "name": "stdout"
        }
      ]
    },
    {
      "cell_type": "code",
      "metadata": {
        "id": "D2JAiHNri2q1"
      },
      "source": [
        "import numpy as np\n",
        "import matplotlib.pyplot as plt\n",
        "from tensorflow.keras.layers import Input,Conv2D,Dense,Flatten,Dropout\n",
        "from tensorflow.keras.models import Model\n"
      ],
      "execution_count": null,
      "outputs": []
    },
    {
      "cell_type": "code",
      "metadata": {
        "colab": {
          "base_uri": "https://localhost:8080/"
        },
        "id": "bqEp2BfLjXrw",
        "outputId": "804dae49-3dc3-446c-f064-8b4edd61c1fa"
      },
      "source": [
        "fashion_mnist=tf.keras.datasets.fashion_mnist\n",
        "\n",
        "(x_train,y_train),(x_test,y_test)=fashion_mnist.load_data()\n",
        "x_train=x_train/255\n",
        "x_test=x_test/255\n",
        "\n",
        "print(x_train.shape)\n",
        "print(x_test.shape)\n"
      ],
      "execution_count": null,
      "outputs": [
        {
          "output_type": "stream",
          "text": [
            "(60000, 28, 28)\n",
            "(10000, 28, 28)\n"
          ],
          "name": "stdout"
        }
      ]
    },
    {
      "cell_type": "code",
      "metadata": {
        "colab": {
          "base_uri": "https://localhost:8080/"
        },
        "id": "xu9l1Sv6j6kS",
        "outputId": "9cd20de6-3353-4490-e03a-19d9d81d70ee"
      },
      "source": [
        "#the data is only 2d while convolution expects 3d height* width* color\n",
        "x_train = np.expand_dims(x_train,-1)\n",
        "x_test= np.expand_dims(x_test,-1)\n",
        "\n",
        "print(x_train.shape)\n",
        "print(x_test.shape)\n"
      ],
      "execution_count": null,
      "outputs": [
        {
          "output_type": "stream",
          "text": [
            "(60000, 28, 28, 1)\n",
            "(10000, 28, 28, 1)\n"
          ],
          "name": "stdout"
        }
      ]
    },
    {
      "cell_type": "code",
      "metadata": {
        "colab": {
          "base_uri": "https://localhost:8080/"
        },
        "id": "v2l8d-Qfk-KC",
        "outputId": "436d02b0-8e00-4c6a-cbcc-aab3297d491f"
      },
      "source": [
        "#number of classes\n",
        "K=len(set(y_train))\n",
        "print(\"number of classes:\",K)"
      ],
      "execution_count": null,
      "outputs": [
        {
          "output_type": "stream",
          "text": [
            "number of classes: 10\n"
          ],
          "name": "stdout"
        }
      ]
    },
    {
      "cell_type": "code",
      "metadata": {
        "id": "slE_c4cmlRdp"
      },
      "source": [
        "#Build the model using the fucntional API\n",
        "i=Input(shape=x_train[0].shape)\n",
        "x=Conv2D(32,(3,3),strides=2,activation='relu')(i)\n",
        "x=Conv2D(64,(3,3),strides=2,activation='relu')(x)\n",
        "x=Conv2D(128,(3,3),strides=2,activation='relu')(x)\n",
        "x=Flatten()(x)\n",
        "x=Dropout(0.2)(x)\n",
        "x=Dense(512,activation='relu')(x)\n",
        "x=Dropout(0.2)(x)\n",
        "x=Dense(K,activation='softmax')(x)\n",
        "\n",
        "model=Model(i,x)\n",
        "\n"
      ],
      "execution_count": null,
      "outputs": []
    },
    {
      "cell_type": "code",
      "metadata": {
        "colab": {
          "base_uri": "https://localhost:8080/"
        },
        "id": "SyzUiuq-nece",
        "outputId": "2a88461f-add4-429e-edfe-e7e610de226e"
      },
      "source": [
        "#compile and fit\n",
        "model.compile(optimizer='adam',loss='sparse_categorical_crossentropy',metrics=['accuracy'])\n",
        "r=model.fit(x_train,y_train,validation_data=(x_test,y_test),epochs=15)\n"
      ],
      "execution_count": null,
      "outputs": [
        {
          "output_type": "stream",
          "text": [
            "Epoch 1/15\n",
            "1875/1875 [==============================] - 30s 16ms/step - loss: 0.5243 - accuracy: 0.8072 - val_loss: 0.3973 - val_accuracy: 0.8499\n",
            "Epoch 2/15\n",
            "1875/1875 [==============================] - 31s 16ms/step - loss: 0.3636 - accuracy: 0.8632 - val_loss: 0.3580 - val_accuracy: 0.8643\n",
            "Epoch 3/15\n",
            "1875/1875 [==============================] - 30s 16ms/step - loss: 0.3150 - accuracy: 0.8810 - val_loss: 0.3144 - val_accuracy: 0.8825\n",
            "Epoch 4/15\n",
            "1875/1875 [==============================] - 31s 16ms/step - loss: 0.2811 - accuracy: 0.8940 - val_loss: 0.3132 - val_accuracy: 0.8840\n",
            "Epoch 5/15\n",
            "1875/1875 [==============================] - 31s 17ms/step - loss: 0.2535 - accuracy: 0.9049 - val_loss: 0.3085 - val_accuracy: 0.8883\n",
            "Epoch 6/15\n",
            "1875/1875 [==============================] - 31s 17ms/step - loss: 0.2342 - accuracy: 0.9126 - val_loss: 0.2892 - val_accuracy: 0.8963\n",
            "Epoch 7/15\n",
            "1875/1875 [==============================] - 30s 16ms/step - loss: 0.2173 - accuracy: 0.9171 - val_loss: 0.2867 - val_accuracy: 0.8969\n",
            "Epoch 8/15\n",
            "1875/1875 [==============================] - 31s 16ms/step - loss: 0.2005 - accuracy: 0.9248 - val_loss: 0.3052 - val_accuracy: 0.9010\n",
            "Epoch 9/15\n",
            "1875/1875 [==============================] - 30s 16ms/step - loss: 0.1867 - accuracy: 0.9282 - val_loss: 0.2994 - val_accuracy: 0.8993\n",
            "Epoch 10/15\n",
            "1875/1875 [==============================] - 30s 16ms/step - loss: 0.1716 - accuracy: 0.9351 - val_loss: 0.3211 - val_accuracy: 0.8943\n",
            "Epoch 11/15\n",
            "1875/1875 [==============================] - 30s 16ms/step - loss: 0.1612 - accuracy: 0.9387 - val_loss: 0.3155 - val_accuracy: 0.9022\n",
            "Epoch 12/15\n",
            "1875/1875 [==============================] - 31s 16ms/step - loss: 0.1506 - accuracy: 0.9425 - val_loss: 0.3289 - val_accuracy: 0.8998\n",
            "Epoch 13/15\n",
            "1875/1875 [==============================] - 31s 17ms/step - loss: 0.1415 - accuracy: 0.9456 - val_loss: 0.3291 - val_accuracy: 0.9039\n",
            "Epoch 14/15\n",
            "1875/1875 [==============================] - 31s 17ms/step - loss: 0.1331 - accuracy: 0.9487 - val_loss: 0.3901 - val_accuracy: 0.8964\n",
            "Epoch 15/15\n",
            "1875/1875 [==============================] - 31s 16ms/step - loss: 0.1273 - accuracy: 0.9511 - val_loss: 0.3600 - val_accuracy: 0.9032\n"
          ],
          "name": "stdout"
        }
      ]
    },
    {
      "cell_type": "code",
      "metadata": {
        "colab": {
          "base_uri": "https://localhost:8080/",
          "height": 282
        },
        "id": "nHRSUHLPnx2L",
        "outputId": "ecf5879d-8f6f-47a4-cc34-ecd479fa6295"
      },
      "source": [
        "plt.plot(r.history['loss'],label='loss')\n",
        "plt.plot(r.history['val_loss'],label='val_loss')\n",
        "plt.legend()"
      ],
      "execution_count": null,
      "outputs": [
        {
          "output_type": "execute_result",
          "data": {
            "text/plain": [
              "<matplotlib.legend.Legend at 0x7ff685eb7a50>"
            ]
          },
          "metadata": {
            "tags": []
          },
          "execution_count": 24
        },
        {
          "output_type": "display_data",
          "data": {
            "image/png": "[encoded data removed]",
            "text/plain": [
              "<Figure size 432x288 with 1 Axes>"
            ]
          },
          "metadata": {
            "tags": [],
            "needs_background": "light"
          }
        }
      ]
    },
    {
      "cell_type": "code",
      "metadata": {
        "colab": {
          "base_uri": "https://localhost:8080/",
          "height": 282
        },
        "id": "28b-jh9uoF1P",
        "outputId": "a708d860-aad3-45be-fa1c-67616ae981db"
      },
      "source": [
        "plt.plot(r.history['accuracy'],label='accuracy')\n",
        "plt.plot(r.history['val_accuracy'],label='val_accuracy')\n",
        "plt.legend()"
      ],
      "execution_count": null,
      "outputs": [
        {
          "output_type": "execute_result",
          "data": {
            "text/plain": [
              "<matplotlib.legend.Legend at 0x7ff682cd7190>"
            ]
          },
          "metadata": {
            "tags": []
          },
          "execution_count": 25
        },
        {
          "output_type": "display_data",
          "data": {
            "image/png": "[encoded data removed]",
            "text/plain": [
              "<Figure size 432x288 with 1 Axes>"
            ]
          },
          "metadata": {
            "tags": [],
            "needs_background": "light"
          }
        }
      ]
    },
    {
      "cell_type": "code",
      "metadata": {
        "colab": {
          "base_uri": "https://localhost:8080/"
        },
        "id": "hxedzUA2oXu3",
        "outputId": "70d38894-b6eb-4d6a-f439-d28115096ca5"
      },
      "source": [
        "print(model.evaluate(x_test,y_test))"
      ],
      "execution_count": null,
      "outputs": [
        {
          "output_type": "stream",
          "text": [
            "313/313 [==============================] - 1s 4ms/step - loss: 0.3600 - accuracy: 0.9032\n",
            "[0.359973669052124, 0.9031999707221985]\n"
          ],
          "name": "stdout"
        }
      ]
    },
    {
      "cell_type": "code",
      "metadata": {
        "colab": {
          "base_uri": "https://localhost:8080/",
          "height": 496
        },
        "id": "NdPcyPEJoaam",
        "outputId": "ae20e253-70c3-47ab-db65-612aa80c716f"
      },
      "source": [
        "from sklearn.metrics import confusion_matrix\n",
        "import itertools\n",
        "import numpy as np\n",
        "\n",
        "def plot_confusion_matrix(cm,classes,normalize=False, title='Confusion matrix',\n",
        "                          cmap=plt.cm.Blues):\n",
        "  \"\"\" This function prints and plots the confusion matrix.Normaliation can be\n",
        "   applied by setting by seting 'normalize=True'.\n",
        "   \"\"\"\n",
        "  if normalize:\n",
        "     cm=cm.astype('float')/cm.sum(axis=1)[:,np.newaxis]\n",
        "     print(\"Normalized confusion matrix\")\n",
        "  else:\n",
        "     print('Confusion matrix, without normalization')  \n",
        "  print(cm)\n",
        "\n",
        "  plt.imshow(cm,interpolation='nearest',cmap=cmap)\n",
        "  plt.title(title)\n",
        "  plt.colorbar()\n",
        "  tick_marks=np.arange(len(classes))\n",
        "  plt.xticks(tick_marks,classes,rotation=45)\n",
        "  plt.yticks(tick_marks,classes)\n",
        "\n",
        "\n",
        "  fmt='.2f' if normalize else 'd'\n",
        "  thresh = cm.max() / 2.\n",
        "  for i,j in itertools.product(range(cm.shape[0]),range(cm.shape[1])):\n",
        "    plt.text(j,i,format(cm[i,j],fmt),\n",
        "             horizontalalignment=\"center\",\n",
        "             color=\"white\" if cm[i,j] > thresh else \"black\")\n",
        "             \n",
        "\n",
        "  plt.tight_layout()\n",
        "  plt.ylabel('True label')\n",
        "  plt.xlabel('Predicted label')\n",
        "  plt.show()\n",
        "\n",
        "\n",
        "p_test =model.predict(x_test).argmax(axis=1)\n",
        "cm=confusion_matrix(y_test,p_test)\n",
        "plot_confusion_matrix(cm,list(range(10)))   \n",
        "\n",
        "\n"
      ],
      "execution_count": null,
      "outputs": [
        {
          "output_type": "stream",
          "text": [
            "Confusion matrix, without normalization\n",
            "[[855   0  20  12   4   1 103   0   5   0]\n",
            " [  2 973   2  15   2   0   5   0   1   0]\n",
            " [ 15   0 849   8  61   0  65   0   2   0]\n",
            " [ 19   6  17 874  55   1  27   0   1   0]\n",
            " [  0   0  40  16 889   0  54   0   1   0]\n",
            " [  2   1   0   1   0 964   0  19   0  13]\n",
            " [ 88   2  57  16 107   0 720   0  10   0]\n",
            " [  0   0   0   0   0  10   0 971   0  19]\n",
            " [  3   0   2   5   5   1   3   1 979   1]\n",
            " [  0   0   0   0   0   5   1  35   1 958]]\n"
          ],
          "name": "stdout"
        },
        {
          "output_type": "display_data",
          "data": {
            "image/png": "[encoded data removed]",
            "text/plain": [
              "<Figure size 432x288 with 2 Axes>"
            ]
          },
          "metadata": {
            "tags": [],
            "needs_background": "light"
          }
        }
      ]
    },
    {
      "cell_type": "code",
      "metadata": {
        "id": "5iNmylouo8gm"
      },
      "source": [
        "#Label mapping\n",
        "labels=''' T-shirt/top\n",
        "Trouser\n",
        "Pullover\n",
        "Dress\n",
        "Coat\n",
        "Sandal\n",
        "Shirt\n",
        "Sneaker\n",
        "Bag\n",
        "Ankle Boot'''.split()"
      ],
      "execution_count": null,
      "outputs": []
    },
    {
      "cell_type": "code",
      "metadata": {
        "colab": {
          "base_uri": "https://localhost:8080/",
          "height": 281
        },
        "id": "7o9qvzERo21Z",
        "outputId": "7b17e06b-34fd-45ee-a3a9-4e90ba376357"
      },
      "source": [
        "#show some misclassified examles\n",
        "missclassified_idx =np.where(p_test != y_test)[0]\n",
        "i=np.random.choice(missclassified_idx)\n",
        "plt.imshow(x_test[i].reshape(28,28),cmap='gray')\n",
        "plt.title(\"True label: %s Predicted: %s\" % (labels[y_test[i]],labels[p_test[i]]));"
      ],
      "execution_count": null,
      "outputs": [
        {
          "output_type": "display_data",
          "data": {
            "image/png": "[encoded data removed]",
            "text/plain": [
              "<Figure size 432x288 with 1 Axes>"
            ]
          },
          "metadata": {
            "tags": [],
            "needs_background": "light"
          }
        }
      ]
    }
  ]
}